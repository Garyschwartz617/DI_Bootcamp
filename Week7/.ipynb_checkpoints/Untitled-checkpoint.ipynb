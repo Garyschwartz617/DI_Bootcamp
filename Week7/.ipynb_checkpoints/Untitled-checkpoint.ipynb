{
 "cells": [
  {
   "cell_type": "code",
   "execution_count": 13,
   "id": "80905c24-ad06-4b66-b33b-db5ee243463d",
   "metadata": {},
   "outputs": [],
   "source": [
    "import numpy as np\n",
    "import pandas as pd\n",
    "import random"
   ]
  },
  {
   "cell_type": "code",
   "execution_count": 3,
   "id": "f9068453-b481-44fe-aff0-9adb33c865ae",
   "metadata": {},
   "outputs": [
    {
     "data": {
      "text/plain": [
       "array([[ 32,  19,  45,  99,  95,  97],\n",
       "       [ 42,   5,  99,  30,  14,  73],\n",
       "       [  5,  29,  79,  91,  93,  31],\n",
       "       [ 15,  56,  65,  79,  89,  55],\n",
       "       [ 74,   7,  80, 100,  26,  61]])"
      ]
     },
     "execution_count": 3,
     "metadata": {},
     "output_type": "execute_result"
    }
   ],
   "source": [
    "a = np.random.randint(1,101, size=(5,6))\n",
    "a"
   ]
  },
  {
   "cell_type": "code",
   "execution_count": 4,
   "id": "92e6e1b3-cf8f-4079-a9a0-89b1276ccefa",
   "metadata": {},
   "outputs": [
    {
     "data": {
      "text/plain": [
       "array([15, 56, 65, 79, 89, 55])"
      ]
     },
     "execution_count": 4,
     "metadata": {},
     "output_type": "execute_result"
    }
   ],
   "source": [
    "a[3,]"
   ]
  },
  {
   "cell_type": "code",
   "execution_count": 6,
   "id": "ef6d8396-fbbd-460b-93e8-95db19d95e98",
   "metadata": {},
   "outputs": [
    {
     "data": {
      "text/plain": [
       "array([ 99,  30,  91,  79, 100])"
      ]
     },
     "execution_count": 6,
     "metadata": {},
     "output_type": "execute_result"
    }
   ],
   "source": [
    "a[:,3]"
   ]
  },
  {
   "cell_type": "code",
   "execution_count": 8,
   "id": "ca8cec97-632c-4e78-80b0-570603f087c0",
   "metadata": {},
   "outputs": [
    {
     "data": {
      "text/plain": [
       "array([[32, 19, 45, 99, 95, 97],\n",
       "       [42,  5, 99, 30, 14, 73],\n",
       "       [ 5, 29, 79, 91, 93, 31],\n",
       "       [15, 56, 65, 79, 89, 55],\n",
       "       [ 7,  7,  7,  7,  7,  7]])"
      ]
     },
     "execution_count": 8,
     "metadata": {},
     "output_type": "execute_result"
    }
   ],
   "source": [
    "a[4,] = 7\n",
    "a"
   ]
  },
  {
   "cell_type": "code",
   "execution_count": 12,
   "id": "af2f2fbb-fdbd-4738-b117-5a282978f122",
   "metadata": {},
   "outputs": [
    {
     "data": {
      "text/plain": [
       "array([[ 32,  19,  45,  99,  95, 217],\n",
       "       [ 42,   5,  99,  30,  14, 217],\n",
       "       [  5,  29,  79,  91,  93, 217],\n",
       "       [ 15,  56,  65,  79,  89, 217],\n",
       "       [  7,   7,   7,   7,   7, 217]])"
      ]
     },
     "execution_count": 12,
     "metadata": {},
     "output_type": "execute_result"
    }
   ],
   "source": [
    "a[:,5] = np.sum(a[:,0:2])\n",
    "a"
   ]
  },
  {
   "cell_type": "code",
   "execution_count": 17,
   "id": "63ace15a-ed52-4f04-b879-cdf628249e72",
   "metadata": {},
   "outputs": [
    {
     "data": {
      "text/plain": [
       "[[85, 61, 47, 51, 27, 19],\n",
       " [42, 15, 23, 57, 72, 79],\n",
       " [20, 3, 4, 54, 14, 62],\n",
       " [89, 17, 84, 27, 39, 14],\n",
       " [47, 37, 60, 89, 71, 7]]"
      ]
     },
     "execution_count": 17,
     "metadata": {},
     "output_type": "execute_result"
    }
   ],
   "source": [
    "a = []\n",
    "for x in range(5):\n",
    "    b = []\n",
    "    for y in range(6):\n",
    "        x = random.randint(1,101)\n",
    "        b.append(x)\n",
    "    a.append(b)  \n",
    "a    "
   ]
  },
  {
   "cell_type": "code",
   "execution_count": null,
   "id": "82859431-d16c-4af7-8a0b-5ac52900cfef",
   "metadata": {},
   "outputs": [],
   "source": []
  }
 ],
 "metadata": {
  "kernelspec": {
   "display_name": "Python 3 (ipykernel)",
   "language": "python",
   "name": "python3"
  },
  "language_info": {
   "codemirror_mode": {
    "name": "ipython",
    "version": 3
   },
   "file_extension": ".py",
   "mimetype": "text/x-python",
   "name": "python",
   "nbconvert_exporter": "python",
   "pygments_lexer": "ipython3",
   "version": "3.9.4"
  }
 },
 "nbformat": 4,
 "nbformat_minor": 5
}
