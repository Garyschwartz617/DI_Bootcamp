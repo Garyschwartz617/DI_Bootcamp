{
 "cells": [
  {
   "cell_type": "code",
   "execution_count": 5,
   "id": "d670dee5-b5b3-454a-a368-a54a9c08b2dc",
   "metadata": {},
   "outputs": [
    {
     "data": {
      "text/plain": [
       "'{\"status\":\"error\",\"errors\":\"Pass \\\\\"zpid\\\\\" or \\\\\"property_url\\\\\"\"}'"
      ]
     },
     "execution_count": 5,
     "metadata": {},
     "output_type": "execute_result"
    }
   ],
   "source": []
  },
  {
   "cell_type": "code",
   "execution_count": 6,
   "id": "f8cd495c-90de-4a3d-bd62-7300efeed1cd",
   "metadata": {},
   "outputs": [],
   "source": []
  },
  {
   "cell_type": "code",
   "execution_count": null,
   "id": "e895bd58-ae4b-4b03-b99d-60ec53ac48c2",
   "metadata": {},
   "outputs": [],
   "source": []
  },
  {
   "cell_type": "code",
   "execution_count": 38,
   "id": "2e996dd2-4fe4-4f2c-9341-092bb5f70297",
   "metadata": {},
   "outputs": [],
   "source": [
    "url = 'https://v6.exchangerate-api.com/v6/f6ed39a37bf3da820b7c2780/latest/USD'\n",
    "data = requests.get(url)\n",
    "data = data.json()"
   ]
  },
  {
   "cell_type": "code",
   "execution_count": 39,
   "id": "2ae73c59-c810-4fd6-bcde-69c835bd5dd8",
   "metadata": {},
   "outputs": [
    {
     "data": {
      "text/plain": [
       "{'result': 'success',\n",
       " 'documentation': 'https://www.exchangerate-api.com/docs',\n",
       " 'terms_of_use': 'https://www.exchangerate-api.com/terms',\n",
       " 'time_last_update_unix': 1628726401,\n",
       " 'time_last_update_utc': 'Thu, 12 Aug 2021 00:00:01 +0000',\n",
       " 'time_next_update_unix': 1628812801,\n",
       " 'time_next_update_utc': 'Fri, 13 Aug 2021 00:00:01 +0000',\n",
       " 'base_code': 'USD',\n",
       " 'conversion_rates': {'USD': 1,\n",
       "  'AED': 3.6725,\n",
       "  'AFN': 80.3383,\n",
       "  'ALL': 103.2933,\n",
       "  'AMD': 491.2513,\n",
       "  'ANG': 1.79,\n",
       "  'AOA': 645.2354,\n",
       "  'ARS': 96.9768,\n",
       "  'AUD': 1.3582,\n",
       "  'AWG': 1.79,\n",
       "  'AZN': 1.6979,\n",
       "  'BAM': 1.6662,\n",
       "  'BBD': 2.0,\n",
       "  'BDT': 84.793,\n",
       "  'BGN': 1.6671,\n",
       "  'BHD': 0.376,\n",
       "  'BIF': 1976.3319,\n",
       "  'BMD': 1.0,\n",
       "  'BND': 1.357,\n",
       "  'BOB': 6.8884,\n",
       "  'BRL': 5.205,\n",
       "  'BSD': 1.0,\n",
       "  'BTN': 74.3376,\n",
       "  'BWP': 11.1458,\n",
       "  'BYN': 2.5173,\n",
       "  'BZD': 2.0,\n",
       "  'CAD': 1.2499,\n",
       "  'CDF': 1985.7545,\n",
       "  'CHF': 0.9221,\n",
       "  'CLP': 779.2338,\n",
       "  'CNY': 6.4832,\n",
       "  'COP': 3948.0386,\n",
       "  'CRC': 620.4204,\n",
       "  'CUC': 1.0,\n",
       "  'CUP': 25.75,\n",
       "  'CVE': 93.9362,\n",
       "  'CZK': 21.691,\n",
       "  'DJF': 177.721,\n",
       "  'DKK': 6.3556,\n",
       "  'DOP': 56.9696,\n",
       "  'DZD': 135.3976,\n",
       "  'EGP': 15.699,\n",
       "  'ERN': 15.0,\n",
       "  'ETB': 44.9648,\n",
       "  'EUR': 0.8519,\n",
       "  'FJD': 2.0843,\n",
       "  'FKP': 0.7211,\n",
       "  'FOK': 6.3556,\n",
       "  'GBP': 0.7211,\n",
       "  'GEL': 3.0988,\n",
       "  'GGP': 0.7211,\n",
       "  'GHS': 6.013,\n",
       "  'GIP': 0.7211,\n",
       "  'GMD': 51.9513,\n",
       "  'GNF': 9755.4521,\n",
       "  'GTQ': 7.736,\n",
       "  'GYD': 209.0603,\n",
       "  'HKD': 7.7786,\n",
       "  'HNL': 23.7373,\n",
       "  'HRK': 6.4187,\n",
       "  'HTG': 95.7256,\n",
       "  'HUF': 302.6904,\n",
       "  'IDR': 14510.978,\n",
       "  'ILS': 3.2346,\n",
       "  'IMP': 0.7211,\n",
       "  'INR': 74.3378,\n",
       "  'IQD': 1458.0456,\n",
       "  'IRR': 41946.0086,\n",
       "  'ISK': 126.3193,\n",
       "  'JMD': 154.7145,\n",
       "  'JOD': 0.709,\n",
       "  'JPY': 110.5377,\n",
       "  'KES': 109.0209,\n",
       "  'KGS': 84.6704,\n",
       "  'KHR': 4074.9336,\n",
       "  'KID': 1.3582,\n",
       "  'KMF': 419.1139,\n",
       "  'KRW': 1156.3719,\n",
       "  'KWD': 0.2996,\n",
       "  'KYD': 0.8333,\n",
       "  'KZT': 425.4427,\n",
       "  'LAK': 9577.1352,\n",
       "  'LBP': 1507.5,\n",
       "  'LKR': 199.1894,\n",
       "  'LRD': 171.5644,\n",
       "  'LSL': 14.7085,\n",
       "  'LYD': 4.524,\n",
       "  'MAD': 8.9754,\n",
       "  'MDL': 17.7757,\n",
       "  'MGA': 3830.2856,\n",
       "  'MKD': 52.5152,\n",
       "  'MMK': 1646.1297,\n",
       "  'MNT': 2842.9769,\n",
       "  'MOP': 8.012,\n",
       "  'MRU': 36.088,\n",
       "  'MUR': 42.5458,\n",
       "  'MVR': 15.4206,\n",
       "  'MWK': 812.6283,\n",
       "  'MXN': 20.0039,\n",
       "  'MYR': 4.2356,\n",
       "  'MZN': 63.4825,\n",
       "  'NAD': 14.7085,\n",
       "  'NGN': 422.9542,\n",
       "  'NIO': 35.1225,\n",
       "  'NOK': 8.8875,\n",
       "  'NPR': 118.9401,\n",
       "  'NZD': 1.4221,\n",
       "  'OMR': 0.3845,\n",
       "  'PAB': 1.0,\n",
       "  'PEN': 4.0813,\n",
       "  'PGK': 3.5254,\n",
       "  'PHP': 50.4687,\n",
       "  'PKR': 163.6885,\n",
       "  'PLN': 3.9101,\n",
       "  'PYG': 6967.6533,\n",
       "  'QAR': 3.64,\n",
       "  'RON': 4.1917,\n",
       "  'RSD': 100.3207,\n",
       "  'RUB': 73.9141,\n",
       "  'RWF': 997.5827,\n",
       "  'SAR': 3.75,\n",
       "  'SBD': 7.9137,\n",
       "  'SCR': 14.1811,\n",
       "  'SDG': 444.5382,\n",
       "  'SEK': 8.7026,\n",
       "  'SGD': 1.357,\n",
       "  'SHP': 0.7211,\n",
       "  'SLL': 10294.5692,\n",
       "  'SOS': 578.0902,\n",
       "  'SRD': 21.4118,\n",
       "  'SSP': 177.6567,\n",
       "  'STN': 20.8719,\n",
       "  'SYP': 1596.8817,\n",
       "  'SZL': 14.7085,\n",
       "  'THB': 33.3156,\n",
       "  'TJS': 11.3019,\n",
       "  'TMT': 3.4968,\n",
       "  'TND': 2.7901,\n",
       "  'TOP': 2.2427,\n",
       "  'TRY': 8.6374,\n",
       "  'TTD': 6.7836,\n",
       "  'TVD': 1.3582,\n",
       "  'TWD': 27.8276,\n",
       "  'TZS': 2316.298,\n",
       "  'UAH': 26.7775,\n",
       "  'UGX': 3525.7945,\n",
       "  'UYU': 43.632,\n",
       "  'UZS': 10653.8444,\n",
       "  'VES': 4095906.704,\n",
       "  'VND': 22897.1664,\n",
       "  'VUV': 111.439,\n",
       "  'WST': 2.5531,\n",
       "  'XAF': 558.8186,\n",
       "  'XCD': 2.7,\n",
       "  'XDR': 0.7046,\n",
       "  'XOF': 558.8186,\n",
       "  'XPF': 101.6605,\n",
       "  'YER': 250.4246,\n",
       "  'ZAR': 14.7089,\n",
       "  'ZMW': 19.2804}}"
      ]
     },
     "execution_count": 39,
     "metadata": {},
     "output_type": "execute_result"
    }
   ],
   "source": [
    "data"
   ]
  },
  {
   "cell_type": "code",
   "execution_count": 37,
   "id": "3d17865b-3252-41f7-914d-61a98f0269a5",
   "metadata": {},
   "outputs": [
    {
     "data": {
      "text/plain": [
       "0.3092"
      ]
     },
     "execution_count": 37,
     "metadata": {},
     "output_type": "execute_result"
    }
   ],
   "source": [
    "data['conversion_rates']['USD']\n"
   ]
  },
  {
   "cell_type": "code",
   "execution_count": null,
   "id": "67fd1cb2-c376-4b0c-aae6-d8d8bc1e5804",
   "metadata": {},
   "outputs": [],
   "source": []
  }
 ],
 "metadata": {
  "kernelspec": {
   "display_name": "Python 3 (ipykernel)",
   "language": "python",
   "name": "python3"
  },
  "language_info": {
   "codemirror_mode": {
    "name": "ipython",
    "version": 3
   },
   "file_extension": ".py",
   "mimetype": "text/x-python",
   "name": "python",
   "nbconvert_exporter": "python",
   "pygments_lexer": "ipython3",
   "version": "3.9.4"
  }
 },
 "nbformat": 4,
 "nbformat_minor": 5
}
